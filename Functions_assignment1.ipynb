{
  "nbformat": 4,
  "nbformat_minor": 0,
  "metadata": {
    "colab": {
      "provenance": []
    },
    "kernelspec": {
      "name": "python3",
      "display_name": "Python 3"
    },
    "language_info": {
      "name": "python"
    }
  },
  "cells": [
    {
      "cell_type": "markdown",
      "source": [
        "Q1. Which keyword is used to create a function? Create a function to return a list of odd numbers in the\n",
        "range of 1 to 25."
      ],
      "metadata": {
        "id": "chQvLGtvl2qn"
      }
    },
    {
      "cell_type": "code",
      "source": [
        "def odd_numbers():\n",
        "  odd_list = [i for i in range(1, 25) if i % 2 != 0]\n",
        "  return odd_list"
      ],
      "metadata": {
        "id": "GcmrcZbpl5Pd"
      },
      "execution_count": 1,
      "outputs": []
    },
    {
      "cell_type": "code",
      "source": [
        "odd_numbers()"
      ],
      "metadata": {
        "colab": {
          "base_uri": "https://localhost:8080/"
        },
        "id": "xYM0yefBmsx1",
        "outputId": "2cc9c13c-3f18-479c-ebdf-2b82c6b3e3f5"
      },
      "execution_count": 2,
      "outputs": [
        {
          "output_type": "execute_result",
          "data": {
            "text/plain": [
              "[1, 3, 5, 7, 9, 11, 13, 15, 17, 19, 21, 23]"
            ]
          },
          "metadata": {},
          "execution_count": 2
        }
      ]
    },
    {
      "cell_type": "markdown",
      "source": [
        "Q2. Why *args and **kwargs is used in some functions? Create a function each for *args and **kwargs\n",
        "to demonstrate their use."
      ],
      "metadata": {
        "id": "GCvwiZOXK6QQ"
      }
    },
    {
      "cell_type": "code",
      "source": [
        "#Q2. Why *args and **kwargs is used in some functions? Create a function each for *args and **kwargs to demonstrate their use."
      ],
      "metadata": {
        "id": "vTJRxUEOK64A"
      },
      "execution_count": 3,
      "outputs": []
    },
    {
      "cell_type": "code",
      "source": [
        "# *args allows us to pass variable number of non keyworded arguements where as **kwargs allows us to pass variable with keywords"
      ],
      "metadata": {
        "id": "-Uf665wuLAFf"
      },
      "execution_count": 4,
      "outputs": []
    },
    {
      "cell_type": "code",
      "source": [
        "def print_args(*args):\n",
        "    for arg in args:\n",
        "        print(arg)\n",
        "\n",
        "# Call the function with different numbers of arguments\n",
        "print_args(1, 2, 3)\n",
        "print_args('apple', 'banana', 'cherry')\n"
      ],
      "metadata": {
        "colab": {
          "base_uri": "https://localhost:8080/"
        },
        "id": "dBhVSM2pLrm1",
        "outputId": "bded521d-6082-41dc-9006-9df60822a8b9"
      },
      "execution_count": 6,
      "outputs": [
        {
          "output_type": "stream",
          "name": "stdout",
          "text": [
            "1\n",
            "2\n",
            "3\n",
            "apple\n",
            "banana\n",
            "cherry\n"
          ]
        }
      ]
    },
    {
      "cell_type": "code",
      "source": [
        "def print_kwargs(**kwargs):\n",
        "    for key, value in kwargs.items():\n",
        "        print(f\"{key}: {value}\")\n",
        "\n",
        "# Call the function with different keyword arguments\n",
        "print_kwargs(name='Ayush', age=20, city='Pune')\n",
        "print_kwargs(language='Python', level='beginner')\n"
      ],
      "metadata": {
        "colab": {
          "base_uri": "https://localhost:8080/"
        },
        "id": "aelXkmDJMgVJ",
        "outputId": "b0c72ac4-9d43-4eaa-8397-0883a53f8104"
      },
      "execution_count": 9,
      "outputs": [
        {
          "output_type": "stream",
          "name": "stdout",
          "text": [
            "name: Ayush\n",
            "age: 20\n",
            "city: Pune\n",
            "language: Python\n",
            "level: beginner\n"
          ]
        }
      ]
    },
    {
      "cell_type": "markdown",
      "source": [
        "Q3. What is an iterator in python? Name the method used to initialise the iterator object and the method\n",
        "used for iteration. Use these methods to print the first five elements of the given list [2, 4, 6, 8, 10, 12, 14,\n",
        "16, 18, 20]."
      ],
      "metadata": {
        "id": "Wu_V71brM12b"
      }
    },
    {
      "cell_type": "code",
      "source": [
        "# Iterator in python refers to the data or an object in which we can go next by iterating.\n",
        "#'__iter__' and '__next__' are the methods used in python for initialising the iterator object.\n"
      ],
      "metadata": {
        "id": "Jy4oDrDzM234"
      },
      "execution_count": 10,
      "outputs": []
    },
    {
      "cell_type": "code",
      "source": [
        "# Define the list\n",
        "data = [2, 4, 6, 8, 10, 12, 14, 16, 18, 20]\n",
        "\n",
        "# Create an iterator object using iter()\n",
        "iterator = iter(data)\n",
        "\n",
        "# Print the first five elements using next()\n",
        "for _ in range(5):\n",
        "  print(next(iterator))\n"
      ],
      "metadata": {
        "colab": {
          "base_uri": "https://localhost:8080/"
        },
        "id": "LpuHSUY5tzL1",
        "outputId": "e5a9c445-6cfe-401d-fc78-43c87160d834"
      },
      "execution_count": 11,
      "outputs": [
        {
          "output_type": "stream",
          "name": "stdout",
          "text": [
            "2\n",
            "4\n",
            "6\n",
            "8\n",
            "10\n"
          ]
        }
      ]
    },
    {
      "cell_type": "markdown",
      "source": [
        "Q4. What is a generator function in python? Why yield keyword is used? Give an example of a generator\n",
        "function.**bold text**"
      ],
      "metadata": {
        "id": "-87qG8TGudiO"
      }
    },
    {
      "cell_type": "code",
      "source": [
        "# A generator function is a special type of function that doesn't return a single value.\n",
        "# Instead, it yields a sequence of values, one at a time, using the yield keyword.\n",
        "# This makes them memory-efficient for large sequences, as they don't create the entire sequence in memory at once."
      ],
      "metadata": {
        "id": "AQloJGDXt0TN"
      },
      "execution_count": 13,
      "outputs": []
    },
    {
      "cell_type": "code",
      "source": [
        "def fibonacci(n):\n",
        "  \"\"\"\n",
        "  This generator function generates the Fibonacci sequence up to n terms.\n",
        "  \"\"\"\n",
        "  a, b = 0, 1\n",
        "  for _ in range(n):\n",
        "    yield a\n",
        "    a, b = b, a + b\n",
        "\n",
        "# Print the first 10 Fibonacci numbers\n",
        "for number in fibonacci(10):\n",
        "  print(number)\n"
      ],
      "metadata": {
        "colab": {
          "base_uri": "https://localhost:8080/"
        },
        "id": "2UytVS4xujWZ",
        "outputId": "983e112b-82b5-4aa4-8669-6315e0e9b110"
      },
      "execution_count": 14,
      "outputs": [
        {
          "output_type": "stream",
          "name": "stdout",
          "text": [
            "0\n",
            "1\n",
            "1\n",
            "2\n",
            "3\n",
            "5\n",
            "8\n",
            "13\n",
            "21\n",
            "34\n"
          ]
        }
      ]
    },
    {
      "cell_type": "markdown",
      "source": [
        "Q5. Create a generator function for prime numbers less than 1000. Use the next() method to print the\n",
        "first 20 prime numbers."
      ],
      "metadata": {
        "id": "JdFujqbSu1WP"
      }
    },
    {
      "cell_type": "code",
      "source": [
        "def prime_generator():\n",
        "  \"\"\"\n",
        "  This generator function yields prime numbers less than 1000.\n",
        "  \"\"\"\n",
        "  num = 2  # Start with 2, the first prime number\n",
        "  while num < 1000:\n",
        "    is_prime = True\n",
        "    # Check for divisibility by numbers up to the square root of the current number\n",
        "    for i in range(2, int(num**0.5) + 1):\n",
        "      if num % i == 0:\n",
        "        is_prime = False\n",
        "        break\n",
        "    if is_prime:\n",
        "      yield num  # Yield the prime number\n",
        "    num += 1  # Increment to the next number\n",
        "\n",
        "# Print the first 20 prime numbers\n",
        "prime_numbers = prime_generator()  # Create a generator object\n",
        "for _ in range(20):\n",
        "  print(next(prime_numbers))  # Retrieve the next prime number using next()\n"
      ],
      "metadata": {
        "colab": {
          "base_uri": "https://localhost:8080/"
        },
        "id": "fkGHio8tvZ9b",
        "outputId": "12f634ec-4088-4ebd-feb1-d5b116718136"
      },
      "execution_count": 16,
      "outputs": [
        {
          "output_type": "stream",
          "name": "stdout",
          "text": [
            "2\n",
            "3\n",
            "5\n",
            "7\n",
            "11\n",
            "13\n",
            "17\n",
            "19\n",
            "23\n",
            "29\n",
            "31\n",
            "37\n",
            "41\n",
            "43\n",
            "47\n",
            "53\n",
            "59\n",
            "61\n",
            "67\n",
            "71\n"
          ]
        }
      ]
    },
    {
      "cell_type": "markdown",
      "source": [
        "Q6. Write a python program to print the first 10 Fibonacci numbers using a while loop."
      ],
      "metadata": {
        "id": "_fjQFybsvfVq"
      }
    },
    {
      "cell_type": "code",
      "source": [
        "# Initialize the first two Fibonacci numbers\n",
        "a, b = 0, 1\n",
        "\n",
        "# Counter to track the number of Fibonacci numbers printed\n",
        "count = 0\n",
        "\n",
        "# Print the first two Fibonacci numbers explicitly\n",
        "print(a)\n",
        "print(b)\n",
        "\n",
        "# Use a while loop to generate and print the remaining Fibonacci numbers\n",
        "while count < 8:  # Print 8 more numbers to make a total of 10\n",
        "  # Calculate the next Fibonacci number\n",
        "  next_fib = a + b\n",
        "\n",
        "  # Print the next Fibonacci number\n",
        "  print(next_fib)\n",
        "\n",
        "  # Update values for the next iteration\n",
        "  a = b\n",
        "  b = next_fib\n",
        "\n",
        "  # Increment the counter\n",
        "  count += 1\n"
      ],
      "metadata": {
        "colab": {
          "base_uri": "https://localhost:8080/"
        },
        "id": "qubaLW0pv2Cm",
        "outputId": "9f3c8dcb-5013-4f98-caa3-a6d5341a29ac"
      },
      "execution_count": 18,
      "outputs": [
        {
          "output_type": "stream",
          "name": "stdout",
          "text": [
            "0\n",
            "1\n",
            "1\n",
            "2\n",
            "3\n",
            "5\n",
            "8\n",
            "13\n",
            "21\n",
            "34\n"
          ]
        }
      ]
    },
    {
      "cell_type": "markdown",
      "source": [
        "Q7. Write a List Comprehension to iterate through the given string: ‘pwskills’.\n",
        "Expected output: ['p', 'w', 's', 'k', 'i', 'l', 'l', 's']"
      ],
      "metadata": {
        "id": "yTpyw28CwBAa"
      }
    },
    {
      "cell_type": "code",
      "source": [
        "string = \"pwskills\"\n",
        "\n",
        "# List comprehension to extract characters\n",
        "characters = [char for char in string]\n",
        "\n",
        "# Print the list of characters\n",
        "print(characters)\n"
      ],
      "metadata": {
        "colab": {
          "base_uri": "https://localhost:8080/"
        },
        "id": "PgIdEKsFwB3m",
        "outputId": "439329d2-89fb-487a-cde9-f83c7b7d465f"
      },
      "execution_count": 19,
      "outputs": [
        {
          "output_type": "stream",
          "name": "stdout",
          "text": [
            "['p', 'w', 's', 'k', 'i', 'l', 'l', 's']\n"
          ]
        }
      ]
    },
    {
      "cell_type": "markdown",
      "source": [
        "Q8. Write a python program to check whether a given number is Palindrome or not using a while loop."
      ],
      "metadata": {
        "id": "_dKphFFcwKEG"
      }
    },
    {
      "cell_type": "code",
      "source": [
        "def is_palindrome(number):\n",
        "  \"\"\"\n",
        "  This function checks if a given number is a palindrome using a while loop.\n",
        "\n",
        "  Args:\n",
        "    number: The number to be checked.\n",
        "\n",
        "  Returns:\n",
        "    True if the number is a palindrome, False otherwise.\n",
        "  \"\"\"\n",
        "\n",
        "  original_number = number\n",
        "  reversed_number = 0\n",
        "\n",
        "  # Extract digits from the number and build the reversed number\n",
        "  while number > 0:\n",
        "    digit = number % 10\n",
        "    reversed_number = reversed_number * 10 + digit\n",
        "    number //= 10\n",
        "\n",
        "  # Compare the original and reversed numbers\n",
        "  return original_number == reversed_number\n",
        "\n",
        "# Example usage\n",
        "number = 121\n",
        "if is_palindrome(number):\n",
        "  print(f\"{number} is a palindrome.\")\n",
        "else:\n",
        "  print(f\"{number} is not a palindrome.\")\n"
      ],
      "metadata": {
        "colab": {
          "base_uri": "https://localhost:8080/"
        },
        "id": "5w_wLyWSwNwX",
        "outputId": "99dcdfe0-debe-4e4d-f183-12d28d21ecfc"
      },
      "execution_count": 20,
      "outputs": [
        {
          "output_type": "stream",
          "name": "stdout",
          "text": [
            "121 is a palindrome.\n"
          ]
        }
      ]
    },
    {
      "cell_type": "markdown",
      "source": [
        "Q9. Write a code to print odd numbers from 1 to 100 using list comprehension."
      ],
      "metadata": {
        "id": "2wNrxdAfwYQL"
      }
    },
    {
      "cell_type": "code",
      "source": [
        "# Create a list of numbers from 1 to 100 using list comprehension\n",
        "numbers = [num for num in range(1, 101)]\n",
        "\n",
        "# Filter out odd numbers using another list comprehension\n",
        "odd_numbers = [num for num in numbers if num % 2 != 0]\n",
        "\n",
        "# Print the filtered list of odd numbers\n",
        "print(odd_numbers)\n"
      ],
      "metadata": {
        "colab": {
          "base_uri": "https://localhost:8080/"
        },
        "id": "N4K2vp9SwbkQ",
        "outputId": "3a7816da-2ead-411d-8f54-e79ddbcbfa10"
      },
      "execution_count": 22,
      "outputs": [
        {
          "output_type": "stream",
          "name": "stdout",
          "text": [
            "[1, 3, 5, 7, 9, 11, 13, 15, 17, 19, 21, 23, 25, 27, 29, 31, 33, 35, 37, 39, 41, 43, 45, 47, 49, 51, 53, 55, 57, 59, 61, 63, 65, 67, 69, 71, 73, 75, 77, 79, 81, 83, 85, 87, 89, 91, 93, 95, 97, 99]\n"
          ]
        }
      ]
    }
  ]
}